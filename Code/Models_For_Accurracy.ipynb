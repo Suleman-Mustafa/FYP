{
 "cells": [
  {
   "cell_type": "code",
   "execution_count": 43,
   "id": "3b4e7836-eb0b-4b90-a2b4-a62d21dda804",
   "metadata": {},
   "outputs": [],
   "source": [
    "# !pip install textblob \n",
    "# !pip install scikit-learn\n",
    "# !pip install gensim\n",
    "# !pip install nltk\n",
    "# !pip install seaborn\n",
    "# !pip install matplotlib\n",
    "# !pip install skfeature-chappers"
   ]
  },
  {
   "cell_type": "code",
   "execution_count": 87,
   "id": "fa36c459-0f85-440b-b95c-b1f66e7aa89e",
   "metadata": {},
   "outputs": [
    {
     "name": "stderr",
     "output_type": "stream",
     "text": [
      "[nltk_data] Downloading package stopwords to\n",
      "[nltk_data]     /home/suleman/nltk_data...\n",
      "[nltk_data]   Package stopwords is already up-to-date!\n"
     ]
    }
   ],
   "source": [
    "import pandas as pd\n",
    "import seaborn as sns\n",
    "\n",
    "import matplotlib.pyplot as plt\n",
    "%matplotlib inline\n",
    "from sklearn import model_selection\n",
    "from textblob import TextBlob \n",
    "import numpy as np\n",
    "import re\n",
    "import nltk\n",
    "nltk.download('stopwords')\n",
    "\n",
    "from gensim.parsing.porter import PorterStemmer\n",
    "from gensim.utils import tokenize\n",
    "\n",
    "from nltk.corpus import stopwords\n",
    "stopwords = [word for word in stopwords.words('english')]\n",
    "from sklearn.feature_extraction.text import TfidfVectorizer\n",
    "from sklearn.naive_bayes import MultinomialNB\n",
    "\n",
    "from sklearn.svm import SVC\n",
    "from sklearn.ensemble import VotingClassifier\n",
    "from sklearn.metrics import classification_report, confusion_matrix, accuracy_score"
   ]
  },
  {
   "cell_type": "code",
   "execution_count": 103,
   "id": "658f82ba-3a41-4b6d-82a2-2635f1710332",
   "metadata": {},
   "outputs": [],
   "source": [
    "\n",
    "def listing():\n",
    "    \"\"\"\n",
    "        i) Read data from csv.\n",
    "        ii) Convert data to numpy array.\n",
    "        iii) Split data with comma.\n",
    "        iv) Appends data into list.\n",
    "    \"\"\"\n",
    "\n",
    "    url = \"Data/all_brands_export.csv\"\n",
    "    db=pd.read_csv(url,low_memory = False)#,sep= ',', error_bad_lines=False, index_col=False, dtype='unicode')\n",
    "\n",
    "    reviews = np.array(db[\"review\"])\n",
    "    # print(reviews)\n",
    "\n",
    "    super_list = []\n",
    "    for sent in reviews:\n",
    "\n",
    "        temp= []\n",
    "        try:\n",
    "            temp = list(sent.split(\",\"))\n",
    "            super_list.append(temp)\n",
    "\n",
    "        except:\n",
    "            super_list.append(None)\n",
    "    return super_list\n"
   ]
  },
  {
   "cell_type": "code",
   "execution_count": 105,
   "id": "e0c7dd07-8222-4e72-90ed-e9f9826bb12b",
   "metadata": {
    "tags": []
   },
   "outputs": [],
   "source": [
    "def pre_process(sentence):  \n",
    "    \"\"\"\n",
    "        i) Remove special characters.\n",
    "        ii) Remove single characters.\n",
    "        iii) Replace multiple spaces with single spaces.\n",
    "    \"\"\"\n",
    "\n",
    "\n",
    "    # Remove all the special characters\n",
    "    processed_sentence = re.sub(r'\\W', ' ', str(sentence))\n",
    "\n",
    "    # remove all single characters\n",
    "    processed_sentence = re.sub(r'\\s+[a-zA-Z]\\s+', ' ', processed_sentence)\n",
    "\n",
    "    # Remove single characters from the start\n",
    "    processed_sentence= re.sub(r'\\^[a-zA-Z]\\s+', ' ', processed_sentence) \n",
    "\n",
    "    # Substituting multiple spaces with single space\n",
    "    processed_sentence= re.sub(r'\\s+', ' ', processed_sentence, flags=re.I)\n",
    "\n",
    "    # Removing prefixed 'b'\n",
    "    processed_sentence = re.sub(r'^b\\s+', '', processed_sentence)\n",
    "    \n",
    "   \n",
    "    return processed_sentence\n"
   ]
  },
  {
   "cell_type": "code",
   "execution_count": 106,
   "id": "ca2258d5-0430-4b4a-b0aa-5b668a3c18f3",
   "metadata": {},
   "outputs": [],
   "source": [
    "def updated_sentence(sentence):\n",
    "    \"\"\"\n",
    "        i) Lower cases the sentence.\n",
    "        ii) Sentence stemming.\n",
    "        iii) Tokenization of sentence.\n",
    "        iv) Stop-words removal.\n",
    "        v) Returns list after all above operations.\n",
    "    \"\"\"\n",
    "    sentence = sentence.lower()\n",
    "    new = \" \"\n",
    "    p = PorterStemmer()\n",
    "    processed = pre_process(sentence)\n",
    "    stemmed = p.stem(processed)\n",
    "    tokens = tokenize(stemmed.strip())\n",
    "    lst=list(tokens)\n",
    "    lst2 = []\n",
    "    for i in lst:\n",
    "        #using nltk dic for stopwords\n",
    "        if  i not in stopwords :\n",
    "            lst2.append(i)\n",
    "    return (new.join(lst2))"
   ]
  },
  {
   "cell_type": "code",
   "execution_count": 107,
   "id": "a6db8bd4-8c3e-4c8b-aad1-1427a5d70503",
   "metadata": {},
   "outputs": [],
   "source": [
    "def polarity_scaling(polarity):\n",
    "    \"\"\"\n",
    "        Scaling of polarity into three classes i.e. negative, positive and neutral.\n",
    "    \"\"\"\n",
    "    # 0  nutral\n",
    "    if polarity  == 0:\n",
    "        return 0\n",
    "    # greater then 0  positive\n",
    "    elif polarity > 0:\n",
    "        return 1\n",
    "    else:\n",
    "    # less then 0  negative\n",
    "        return -1    "
   ]
  },
  {
   "cell_type": "code",
   "execution_count": 108,
   "id": "c26f9974-f4a5-43ff-88e3-4f25e624fe36",
   "metadata": {},
   "outputs": [],
   "source": [
    "def reviews_list_polarity():\n",
    "    \"\"\"\n",
    "        i) Removes none keyword from sentence.\n",
    "        ii) Removes tabs and newlines from sentence.\n",
    "        iii) Calculates polarity of each sentence.\n",
    "        iv) Creates a tuple (review,polarity).\n",
    "        v) Adds tuples to a dictionary.\n",
    "    \"\"\"\n",
    "\n",
    "    individual_review = []\n",
    "    for_reviews = []\n",
    "    for_polarity = []\n",
    "    updated_review_Dict = {}\n",
    "    super_list_2 = []\n",
    "    super_list = listing()\n",
    "    for remove_none_type in super_list:\n",
    "        if remove_none_type is not None:\n",
    "            super_list_2.append(remove_none_type)\n",
    "    for select_list in super_list_2:\n",
    "        for i in select_list:\n",
    "            news =i.strip()\n",
    "            new1=news.split(\".\")\n",
    "\n",
    "            lst_list = []\n",
    "            lst_list_2 = []\n",
    "\n",
    "\n",
    "            for j in new1:\n",
    "                j = updated_sentence(j)\n",
    "                temp =j.replace(\"\\r\\n\" ,\"\")\n",
    "                pol = TextBlob(temp).sentiment.polarity\n",
    "                polarity=polarity_scaling(pol)\n",
    "                tup = (temp ,polarity)\n",
    "                lst_list.append(tup)\n",
    "            for remove_tuple in lst_list:\n",
    "                if remove_tuple != ('',0):\n",
    "                    lst_list_2.append(remove_tuple)\n",
    "            if lst_list_2 != []:\n",
    "                for_reviews.append(lst_list_2[0][0])\n",
    "                for_polarity.append(lst_list_2[0][1])\n",
    "    updated_review_Dict[\"reviews\"]=for_reviews\n",
    "    updated_review_Dict[\"polarity\"]=for_polarity\n",
    "    return updated_review_Dict"
   ]
  },
  {
   "cell_type": "code",
   "execution_count": 110,
   "id": "9bcba720-325c-4ff7-9b2e-fd42cb792204",
   "metadata": {},
   "outputs": [],
   "source": [
    "# reviews_list_polarity()"
   ]
  },
  {
   "cell_type": "code",
   "execution_count": 111,
   "id": "18fb49be-3f93-4c1a-b50e-0f3e14d078fa",
   "metadata": {},
   "outputs": [],
   "source": [
    "data=pd.DataFrame(reviews_list_polarity())\n",
    "# spiting data for train data\n",
    "x = data['reviews']\n",
    "y = data['polarity']#text blob computed"
   ]
  },
  {
   "cell_type": "code",
   "execution_count": 112,
   "id": "88754fab",
   "metadata": {},
   "outputs": [],
   "source": [
    "vec = TfidfVectorizer()\n",
    "matrix_X = vec.fit_transform(x)"
   ]
  },
  {
   "cell_type": "code",
   "execution_count": 113,
   "id": "6bd65360-e377-431b-94fd-aa86c073160a",
   "metadata": {},
   "outputs": [
    {
     "data": {
      "text/plain": [
       "MultinomialNB()"
      ]
     },
     "execution_count": 113,
     "metadata": {},
     "output_type": "execute_result"
    }
   ],
   "source": [
    "train_x=matrix_X[:8000]\n",
    "train_y=y[:8000]\n",
    "NB_model = MultinomialNB()\n",
    "NB_model.fit(train_x,train_y)"
   ]
  },
  {
   "cell_type": "code",
   "execution_count": 114,
   "id": "b2e1f78a-3f2d-45d1-a874-f453340dc620",
   "metadata": {},
   "outputs": [],
   "source": [
    "pred_x=matrix_X[8000:]\n",
    "pred_y=y[8000:]\n",
    "pred=NB_model.predict(pred_x)"
   ]
  },
  {
   "cell_type": "code",
   "execution_count": 115,
   "id": "05a7d9ec",
   "metadata": {},
   "outputs": [
    {
     "name": "stdout",
     "output_type": "stream",
     "text": [
      "Naive Bayes Matrix , accuracy and f1-score\n",
      "\n",
      "\n",
      "NB confusion matrix : \n",
      " [[ 1477 11727  6750]\n",
      " [    2 75741  3624]\n",
      " [    1 15144 41689]]\n",
      "              precision    recall  f1-score   support\n",
      "\n",
      "          -1       1.00      0.07      0.14     19954\n",
      "           0       0.74      0.95      0.83     79367\n",
      "           1       0.80      0.73      0.77     56834\n",
      "\n",
      "    accuracy                           0.76    156155\n",
      "   macro avg       0.85      0.59      0.58    156155\n",
      "weighted avg       0.79      0.76      0.72    156155\n",
      "\n",
      "Accuracy of Model:  0.7614677724056226\n"
     ]
    }
   ],
   "source": [
    "NB_cf_matrix = confusion_matrix(pred_y,pred)\n",
    "# cf_matrix\n",
    "print(\"Naive Bayes Matrix , accuracy and f1-score\\n\\n\")\n",
    "print(\"NB confusion matrix : \\n\",NB_cf_matrix)\n",
    "\n",
    "print(classification_report(pred_y,pred))\n",
    "print(\"Accuracy of Model: \",accuracy_score(pred_y,pred))"
   ]
  },
  {
   "cell_type": "code",
   "execution_count": 116,
   "id": "53b77b2b",
   "metadata": {},
   "outputs": [
    {
     "data": {
      "image/png": "[encoded data removed]",
      "text/plain": [
       "<Figure size 432x288 with 2 Axes>"
      ]
     },
     "metadata": {
      "needs_background": "light"
     },
     "output_type": "display_data"
    }
   ],
   "source": [
    "\n",
    "# labels = np.asarray(labels).reshape(3,3)\n",
    "\n",
    "\n",
    "ax = sns.heatmap(NB_cf_matrix, annot=NB_cf_matrix,  fmt='', cmap='Blues')\n",
    "\n",
    "ax.set_title('Naive Bayes Confusion Matrix\\n\\n');\n",
    "ax.set_xlabel('\\nPredicted Values')\n",
    "ax.set_ylabel('Actual Values ');\n",
    "\n",
    "# labels - List must be in alphabetical order\n",
    "ax.xaxis.set_ticklabels(['-1','0','1'])\n",
    "ax.yaxis.set_ticklabels(['-1','0','1'])\n",
    "\n",
    "# Display the visualization of the Confusion Matrix.\n",
    "plt.show()"
   ]
  },
  {
   "cell_type": "code",
   "execution_count": 117,
   "id": "db3a60f8",
   "metadata": {},
   "outputs": [
    {
     "data": {
      "text/plain": [
       "SVC(kernel='linear')"
      ]
     },
     "execution_count": 117,
     "metadata": {},
     "output_type": "execute_result"
    }
   ],
   "source": [
    "train_x_svm=matrix_X[:8000]\n",
    "train_y_svm=y[:8000]\n",
    "svm_model = SVC(kernel='linear')\n",
    "svm_model.fit(train_x_svm,train_y_svm)"
   ]
  },
  {
   "cell_type": "code",
   "execution_count": 118,
   "id": "47278a02",
   "metadata": {},
   "outputs": [],
   "source": [
    "pred_x_svm=matrix_X[8000:]\n",
    "pred_y_svm=y[8000:]\n",
    "pred_svm=svm_model.predict(pred_x_svm)"
   ]
  },
  {
   "cell_type": "code",
   "execution_count": 119,
   "id": "bd766ceb",
   "metadata": {},
   "outputs": [
    {
     "name": "stdout",
     "output_type": "stream",
     "text": [
      "SVM Matrix , accuracy and f1-score\n",
      "\n",
      "\n",
      "SVm confusion matrix : \n",
      " [[12530  5935  1489]\n",
      " [  107 78837   423]\n",
      " [  831  7875 48128]]\n",
      "              precision    recall  f1-score   support\n",
      "\n",
      "          -1       1.00      0.07      0.14     19954\n",
      "           0       0.74      0.95      0.83     79367\n",
      "           1       0.80      0.73      0.77     56834\n",
      "\n",
      "    accuracy                           0.76    156155\n",
      "   macro avg       0.85      0.59      0.58    156155\n",
      "weighted avg       0.79      0.76      0.72    156155\n",
      "\n",
      "Accuracy of Model :  0.8933111331689667\n"
     ]
    }
   ],
   "source": [
    "svm_cf_matrix = confusion_matrix(pred_y_svm,pred_svm)\n",
    "# cf_matrix\n",
    "print(\"SVM Matrix , accuracy and f1-score\\n\\n\")\n",
    "print(\"SVm confusion matrix : \\n\",svm_cf_matrix)\n",
    "\n",
    "print(classification_report(pred_y_svm,pred))\n",
    "print(\"Accuracy of Model : \",(accuracy_score(pred_y_svm,pred_svm)))"
   ]
  },
  {
   "cell_type": "code",
   "execution_count": 120,
   "id": "83fe048f",
   "metadata": {},
   "outputs": [
    {
     "data": {
      "image/png": "[encoded data removed]",
      "text/plain": [
       "<Figure size 432x288 with 2 Axes>"
      ]
     },
     "metadata": {
      "needs_background": "light"
     },
     "output_type": "display_data"
    }
   ],
   "source": [
    "# labels = np.asarray(labels).reshape(3,3)\n",
    "\n",
    "\n",
    "ax = sns.heatmap(svm_cf_matrix, annot=svm_cf_matrix,  fmt='', cmap='Blues')\n",
    "\n",
    "ax.set_title('SVM Confusion Matrix\\n\\n');\n",
    "ax.set_xlabel('\\nPredicted Values')\n",
    "ax.set_ylabel('Actual Values ');\n",
    "\n",
    "# Ticket labels - List must be in alphabetical order\n",
    "ax.xaxis.set_ticklabels(['-1','0','1'])\n",
    "ax.yaxis.set_ticklabels(['-1','0','1'])\n",
    "\n",
    "# Display the visualization of the Confusion Matrix.\n",
    "plt.show()"
   ]
  },
  {
   "cell_type": "code",
   "execution_count": 121,
   "id": "77ab1c26",
   "metadata": {},
   "outputs": [
    {
     "name": "stdout",
     "output_type": "stream",
     "text": [
      "Ensembler Majority voting  0.8242499999999999 [0.7825   0.830625 0.8175   0.83625  0.854375]\n"
     ]
    }
   ],
   "source": [
    "models = [('NB',NB_model),('svm',svm_model)]\n",
    "ensemble = VotingClassifier(estimators=models)\n",
    "results=model_selection.cross_val_score(ensemble, matrix_X[:8000], y[:8000])\n",
    "print(\"Ensembler Majority voting \",results.mean(),results)"
   ]
  },
  {
   "cell_type": "code",
   "execution_count": null,
   "id": "26ab1434",
   "metadata": {},
   "outputs": [],
   "source": []
  },
  {
   "cell_type": "code",
   "execution_count": null,
   "id": "8ba494bd-a77c-4b48-8267-b5b69851167b",
   "metadata": {},
   "outputs": [],
   "source": []
  }
 ],
 "metadata": {
  "kernelspec": {
   "display_name": "Python 3 (ipykernel)",
   "language": "python",
   "name": "python3"
  },
  "language_info": {
   "codemirror_mode": {
    "name": "ipython",
    "version": 3
   },
   "file_extension": ".py",
   "mimetype": "text/x-python",
   "name": "python",
   "nbconvert_exporter": "python",
   "pygments_lexer": "ipython3",
   "version": "3.9.7"
  }
 },
 "nbformat": 4,
 "nbformat_minor": 5
}
